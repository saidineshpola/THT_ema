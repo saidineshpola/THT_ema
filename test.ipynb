{
 "cells": [
  {
   "cell_type": "code",
   "execution_count": null,
   "id": "14dd97a5",
   "metadata": {},
   "outputs": [],
   "source": [
    "import pdf2image\n",
    "import os\n",
    "\n",
    "# Use raw string for pdf_path\n",
    "pdf_path = r'C:\\Users\\user\\Desktop\\projects\\THT_ema\\simulated_data_lake\\generated_sample_pdfs\\grn_GRN4725.pdf'\n",
    "\n",
    "# Use raw string for poppler_path\n",
    "poppler_path = r'C:\\Users\\user\\Desktop\\projects\\THT_ema\\.venv\\Release-24.08.0-0\\poppler-24.08.0\\Library\\bin'\n",
    "\n",
    "images = pdf2image.convert_from_path(pdf_path, poppler_path=r'C:\\Users\\user\\Desktop\\projects\\THT_ema\\.venv\\Release-24.08.0-0\\poppler-24.08.0\\Library\\bin')"
   ]
  }
 ],
 "metadata": {
  "kernelspec": {
   "display_name": ".venv",
   "language": "python",
   "name": "python3"
  },
  "language_info": {
   "codemirror_mode": {
    "name": "ipython",
    "version": 3
   },
   "file_extension": ".py",
   "mimetype": "text/x-python",
   "name": "python",
   "nbconvert_exporter": "python",
   "pygments_lexer": "ipython3",
   "version": "3.10.11"
  }
 },
 "nbformat": 4,
 "nbformat_minor": 5
}
